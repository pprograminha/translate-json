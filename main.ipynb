{
 "cells": [
  {
   "cell_type": "code",
   "execution_count": 163,
   "metadata": {},
   "outputs": [],
   "source": [
    "import json\n",
    "import os\n",
    "import openai"
   ]
  },
  {
   "cell_type": "code",
   "execution_count": 164,
   "metadata": {},
   "outputs": [],
   "source": [
    "BASE_LOCALE = 'en'\n",
    "LOCALES_PATH = './locales'"
   ]
  },
  {
   "cell_type": "code",
   "execution_count": 165,
   "metadata": {},
   "outputs": [],
   "source": [
    "def get_locale_json(locale_path: str):\n",
    "  with open(f\"{locale_path}\", 'r') as locale_data:\n",
    "    data: dict[str, str] = json.load(locale_data)\n",
    "  \n",
    "  return data"
   ]
  },
  {
   "cell_type": "code",
   "execution_count": 166,
   "metadata": {},
   "outputs": [],
   "source": [
    "def get_diff_between(json: dict[str, str], json_to_compare: dict[str, str]):\n",
    "    diff_json: dict[str, str] = {}\n",
    "    \n",
    "    for key in json_to_compare:\n",
    "      if(key not in json):\n",
    "        diff_json[key] = key\n",
    "\n",
    "    return diff_json"
   ]
  },
  {
   "cell_type": "code",
   "execution_count": null,
   "metadata": {},
   "outputs": [],
   "source": [
    "def is_valid_json(json_string: str):\n",
    "    try:\n",
    "        json.loads(json_string)\n",
    "        return True\n",
    "    except ValueError:\n",
    "        return False"
   ]
  },
  {
   "cell_type": "code",
   "execution_count": 167,
   "metadata": {},
   "outputs": [
    {
     "name": "stdout",
     "output_type": "stream",
     "text": [
      "{\n",
      "    \"Need help?\": \"Need help?\",\n",
      "    \"Contact Us\": \"Contact Us\"\n",
      "}\n",
      "{\n",
      "    \"When can you take lessons?\": \"When can you take lessons?\",\n",
      "    \"Search language\": \"Search language\",\n",
      "    \"No results found\": \"No results found\",\n",
      "    \"Get started\": \"Get started\",\n",
      "    \"Find the right AI tutor for you\": \"Find the right AI tutor for you\",\n",
      "    \"What do you want to learn?\": \"What do you want to learn?\",\n",
      "    \"What's your language level?\": \"What's your language level?\",\n",
      "    \"I'm just starting\": \"I'm just starting\",\n",
      "    \"I know the basics\": \"I know the basics\",\n",
      "    \"I'm conversational\": \"I'm conversational\",\n",
      "    \"I'm fluent in most situations\": \"I'm fluent in most situations\",\n",
      "    \"Tell us how you\\u2019d like to learn to get a personalized choice of AI tutors\": \"Tell us how you\\u2019d like to learn to get a personalized choice of AI tutors\",\n",
      "    \"You're almost there, just 1 steps to go!\": \"You're almost there, just 1 steps to go!\",\n",
      "    \"Next\": \"Next\",\n",
      "    \"Continue\": \"Continue\",\n",
      "    \"Skip this question\": \"Skip this question\",\n",
      "    \"English\": \"English\",\n",
      "    \"Spanish\": \"Spanish\",\n",
      "    \"Italian\": \"Italian\",\n",
      "    \"French\": \"French\",\n",
      "    \"Portuguese\": \"Portuguese\",\n",
      "    \"Chinese (Mandarin)\": \"Chinese (Mandarin)\",\n",
      "    \"Morning\": \"Morning\",\n",
      "    \"Evening and night\": \"Evening and night\",\n",
      "    \"Daytime\": \"Daytime\",\n",
      "    \"Times\": \"Times\",\n",
      "    \"Days\": \"Days\",\n",
      "    \"Sign in to unlock the best of Lingos AI\": \"Sign in to unlock the best of Lingos AI\",\n",
      "    \"Get Started\": \"Get Started\",\n",
      "    \"Simplify your studies of a new language using artificial intelligence\": \"Simplify your studies of a new language using artificial intelligence\",\n",
      "    \"Our platform leverages artificial intelligence to make learning a new language simpler and more effective By using advanced AI algorithms, we provide personalized learning experiences that adapt to your individual needs and pace\": \"Our platform leverages artificial intelligence to make learning a new language simpler and more effective By using advanced AI algorithms, we provide personalized learning experiences that adapt to your individual needs and pace\",\n",
      "    \"Learning English opens doors to global opportunities, enhances your career prospects, expands access to information, and makes international travel easier\": \"Learning English opens doors to global opportunities, enhances your career prospects, expands access to information, and makes international travel easier\",\n",
      "    \"Learning Italian allows you to appreciate Italy's rich culture, explore career opportunities in Italy, and immerse yourself in the history and art of iconic cities like Rome and Florence\": \"Learning Italian allows you to appreciate Italy's rich culture, explore career opportunities in Italy, and immerse yourself in the history and art of iconic cities like Rome and Florence\",\n",
      "    \"Learning Spanish opens doors to immerse yourself in the vibrant Hispanic culture, enjoy new career opportunities in Spanish-speaking countries, and explore fascinating destinations like Barcelona, with its stunning architecture and rich history\": \"Learning Spanish opens doors to immerse yourself in the vibrant Hispanic culture, enjoy new career opportunities in Spanish-speaking countries, and explore fascinating destinations like Barcelona, with its stunning architecture and rich history\",\n",
      "    \"Learning French allows you to immerse yourself in the sophisticated French culture, open doors to international career opportunities, and explore charming settings like the lush gardens of Versailles\": \"Learning French allows you to immerse yourself in the sophisticated French culture, open doors to international career opportunities, and explore charming settings like the lush gardens of Versailles\",\n",
      "    \"Learning Portuguese provides immersion in the rich Lusophone culture, opens up career opportunities in Portuguese-speaking countries, and allows exploration of stunning landscapes like the paradise beaches of Brazil\": \"Learning Portuguese provides immersion in the rich Lusophone culture, opens up career opportunities in Portuguese-speaking countries, and allows exploration of stunning landscapes like the paradise beaches of Brazil\",\n",
      "    \"All rights reserved\": \"All rights reserved\",\n",
      "    \"Lingos AI\": \"Lingos AI\",\n",
      "    \"Terms of Service\": \"Terms of Service\",\n",
      "    \"Privacy\": \"Privacy\",\n",
      "    \"Need help?\": \"Need help?\",\n",
      "    \"Contact Us\": \"Contact Us\"\n",
      "}\n"
     ]
    }
   ],
   "source": [
    "def main():\n",
    "  locales = os.listdir(LOCALES_PATH)\n",
    "\n",
    "  base_locale_json = get_locale_json(f\"{LOCALES_PATH}/{BASE_LOCALE}.json\")\n",
    "\n",
    "  for locale in locales:\n",
    "    locale_name, locale_type = locale.split('.')\n",
    "\n",
    "    if(locale_name == BASE_LOCALE or locale_type != 'json'): \n",
    "      continue\n",
    "\n",
    "    locale_json = get_locale_json(f\"{LOCALES_PATH}/{locale}\")\n",
    "\n",
    "    diff_json = get_diff_between(locale_json, base_locale_json)\n",
    "\n",
    "    for i, key in enumerate(diff_json.copy(), 0):\n",
    "      if(i > 50):\n",
    "        diff_json.pop(key)\n",
    "    \n",
    "    if(len(diff_json) == 0):\n",
    "      print(f'Não há diferença entre ({locale_name}) e ({BASE_LOCALE}).')\n",
    "      continue\n",
    "    else: \n",
    "      print(f'Diferença de {len(diff_json)} entre ({locale_name}) e ({BASE_LOCALE}).')\n",
    "\n",
    "    prompt = f'Você é um assistente de tradução de texto. Mantenha as KEYS. O retorno JSON deve ser sempre em aspas duplas \"\". Traduza para o idioma ({locale_name}). Responda em formato JSON: {diff_json}'\n",
    "\n",
    "    response = openai.chat.completions.create(\n",
    "      model=\"gpt-3.5-turbo-0613\",\n",
    "      messages=[\n",
    "        {\n",
    "          'content': prompt,\n",
    "          'role': 'system'\n",
    "        }\n",
    "      ],\n",
    "    )\n",
    "\n",
    "    json_string = response.choices[0].message.content\n",
    "\n",
    "    try:\n",
    "      if json_string is not None and is_valid_json(json_string):\n",
    "        json_data: dict[str, str] = json.loads(json_string)\n",
    "        json_data_copy = json_data.copy()\n",
    "\n",
    "        for key in json_data:\n",
    "          if(key not in base_locale_json):\n",
    "            del json_data[key]\n",
    "\n",
    "        if(len(json_data) > 0):\n",
    "          for key in json_data:\n",
    "            locale_json[key] = json_data[key]\n",
    "\n",
    "            with open(f\"{LOCALES_PATH}/{locale}\", 'w') as file:\n",
    "              json.dump(locale_json, file, indent=4, ensure_ascii=False)\n",
    "          \n",
    "        print(f'Valores ignorados: {len(json_data_copy) - len(json_data)}')\n",
    "        print(f'Valores adicionados: {len(json_data)}')\n",
    "      else: \n",
    "        print('JSON inválido', json_string)\n",
    "    except Exception as err:\n",
    "      print('Ocorreu um erro ao tentar traduzir', err)\n",
    "        \n",
    "    \n",
    "main()"
   ]
  }
 ],
 "metadata": {
  "kernelspec": {
   "display_name": "Python 3",
   "language": "python",
   "name": "python3"
  },
  "language_info": {
   "codemirror_mode": {
    "name": "ipython",
    "version": 3
   },
   "file_extension": ".py",
   "mimetype": "text/x-python",
   "name": "python",
   "nbconvert_exporter": "python",
   "pygments_lexer": "ipython3",
   "version": "3.12.3"
  }
 },
 "nbformat": 4,
 "nbformat_minor": 2
}
