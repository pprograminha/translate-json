{
 "cells": [
  {
   "cell_type": "code",
   "execution_count": 1,
   "metadata": {},
   "outputs": [],
   "source": [
    "import json\n",
    "import os\n",
    "import openai"
   ]
  },
  {
   "cell_type": "code",
   "execution_count": 2,
   "metadata": {},
   "outputs": [],
   "source": [
    "BASE_LOCALE = 'en'\n",
    "LOCALES_PATH = './locales'"
   ]
  },
  {
   "cell_type": "code",
   "execution_count": 3,
   "metadata": {},
   "outputs": [],
   "source": [
    "def get_locale_json(locale_path: str):\n",
    "  with open(f\"{locale_path}\", 'r') as locale_data:\n",
    "    data: dict[str, str] = json.load(locale_data)\n",
    "  \n",
    "  return data"
   ]
  },
  {
   "cell_type": "code",
   "execution_count": 4,
   "metadata": {},
   "outputs": [],
   "source": [
    "def get_diff_between(json: dict[str, str], json_to_compare: dict[str, str]):\n",
    "    diff_json: dict[str, str] = {}\n",
    "    \n",
    "    for key in json_to_compare:\n",
    "      if(key not in json):\n",
    "        diff_json[key] = key\n",
    "\n",
    "    return diff_json"
   ]
  },
  {
   "cell_type": "code",
   "execution_count": 5,
   "metadata": {},
   "outputs": [],
   "source": [
    "def is_valid_json(json_string: str):\n",
    "    try:\n",
    "        json.loads(json_string)\n",
    "        return True\n",
    "    except ValueError:\n",
    "        return False"
   ]
  },
  {
   "cell_type": "code",
   "execution_count": 6,
   "metadata": {},
   "outputs": [
    {
     "name": "stdout",
     "output_type": "stream",
     "text": [
      "Não há diferença entre (pt) e (en).\n",
      "Não há diferença entre (es) e (en).\n"
     ]
    }
   ],
   "source": [
    "def main():\n",
    "  locales = os.listdir(LOCALES_PATH)\n",
    "\n",
    "  base_locale_json = get_locale_json(f\"{LOCALES_PATH}/{BASE_LOCALE}.json\")\n",
    "\n",
    "  for locale in locales:\n",
    "    locale_name, locale_type = locale.split('.')\n",
    "\n",
    "    if(locale_name == BASE_LOCALE or locale_type != 'json'): \n",
    "      continue\n",
    "\n",
    "    locale_json = get_locale_json(f\"{LOCALES_PATH}/{locale}\")\n",
    "\n",
    "    diff_json = get_diff_between(locale_json, base_locale_json)\n",
    "\n",
    "    for i, key in enumerate(diff_json.copy(), 0):\n",
    "      if(i > 50):\n",
    "        diff_json.pop(key)\n",
    "    \n",
    "    if(len(diff_json) == 0):\n",
    "      print(f'Não há diferença entre ({locale_name}) e ({BASE_LOCALE}).')\n",
    "      continue\n",
    "    else: \n",
    "      print(f'Diferença de {len(diff_json)} entre ({locale_name}) e ({BASE_LOCALE}).')\n",
    "\n",
    "    prompt = f'Você é um assistente de tradução de texto. Mantenha as KEYS. O retorno JSON deve ser sempre em aspas duplas \"\". Traduza para o idioma ({locale_name}). Responda em formato JSON: {diff_json}'\n",
    "\n",
    "    response = openai.chat.completions.create(\n",
    "      model=\"gpt-3.5-turbo-0613\",\n",
    "      messages=[\n",
    "        {\n",
    "          'content': prompt,\n",
    "          'role': 'system'\n",
    "        }\n",
    "      ],\n",
    "    )\n",
    "\n",
    "    json_string = response.choices[0].message.content\n",
    "\n",
    "    try:\n",
    "      if json_string is not None and is_valid_json(json_string):\n",
    "        json_data: dict[str, str] = json.loads(json_string)\n",
    "        json_data_copy = json_data.copy()\n",
    "\n",
    "        for key in json_data:\n",
    "          if(key not in base_locale_json):\n",
    "            del json_data[key]\n",
    "\n",
    "        if(len(json_data) > 0):\n",
    "          for key in json_data:\n",
    "            locale_json[key] = json_data[key]\n",
    "\n",
    "            with open(f\"{LOCALES_PATH}/{locale}\", 'w') as file:\n",
    "              json.dump(locale_json, file, indent=4, ensure_ascii=False)\n",
    "          \n",
    "        print(f'Valores ignorados: {len(json_data_copy) - len(json_data)}')\n",
    "        print(f'Valores adicionados: {len(json_data)}')\n",
    "      else: \n",
    "        print('JSON inválido', json_string)\n",
    "    except Exception as err:\n",
    "      print('Ocorreu um erro ao tentar traduzir', err)\n",
    "        \n",
    "    \n",
    "main()"
   ]
  }
 ],
 "metadata": {
  "kernelspec": {
   "display_name": "Python 3",
   "language": "python",
   "name": "python3"
  },
  "language_info": {
   "codemirror_mode": {
    "name": "ipython",
    "version": 3
   },
   "file_extension": ".py",
   "mimetype": "text/x-python",
   "name": "python",
   "nbconvert_exporter": "python",
   "pygments_lexer": "ipython3",
   "version": "3.12.3"
  }
 },
 "nbformat": 4,
 "nbformat_minor": 2
}
